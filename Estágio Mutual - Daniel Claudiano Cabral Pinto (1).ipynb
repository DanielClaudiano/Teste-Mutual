{
 "cells": [
  {
   "cell_type": "markdown",
   "metadata": {},
   "source": [
    "## Previsão de Maus Pagadores"
   ]
  },
  {
   "cell_type": "code",
   "execution_count": 3,
   "metadata": {},
   "outputs": [],
   "source": [
    "#Importando Pacotes\n",
    "import pandas as pd\n",
    "import numpy as np\n",
    "import matplotlib.pyplot as plt\n",
    "import seaborn as sns\n",
    "from sklearn import preprocessing\n",
    "from sklearn.model_selection import train_test_split\n",
    "from sklearn.neighbors import KNeighborsClassifier\n",
    "from sklearn import metrics\n",
    "\n",
    "%matplotlib inline"
   ]
  },
  {
   "cell_type": "code",
   "execution_count": 4,
   "metadata": {},
   "outputs": [],
   "source": [
    "#importando dados\n",
    "df = pd.read_csv(r'C:\\Users\\Daniel\\Downloads\\MutualClients.csv')"
   ]
  },
  {
   "cell_type": "code",
   "execution_count": 5,
   "metadata": {},
   "outputs": [
    {
     "data": {
      "text/html": [
       "<div>\n",
       "<style scoped>\n",
       "    .dataframe tbody tr th:only-of-type {\n",
       "        vertical-align: middle;\n",
       "    }\n",
       "\n",
       "    .dataframe tbody tr th {\n",
       "        vertical-align: top;\n",
       "    }\n",
       "\n",
       "    .dataframe thead th {\n",
       "        text-align: right;\n",
       "    }\n",
       "</style>\n",
       "<table border=\"1\" class=\"dataframe\">\n",
       "  <thead>\n",
       "    <tr style=\"text-align: right;\">\n",
       "      <th></th>\n",
       "      <th>Unnamed: 0</th>\n",
       "      <th>clientId</th>\n",
       "      <th>shopId</th>\n",
       "      <th>gender</th>\n",
       "      <th>maritalStatus</th>\n",
       "      <th>age</th>\n",
       "      <th>numberOfDependents</th>\n",
       "      <th>education</th>\n",
       "      <th>flagResidencialPhone</th>\n",
       "      <th>areaCodeResidencialPhone</th>\n",
       "      <th>...</th>\n",
       "      <th>professionCode</th>\n",
       "      <th>mateIncome</th>\n",
       "      <th>flagResidencialAddress_PostalAddress</th>\n",
       "      <th>flagOtherCard</th>\n",
       "      <th>quantityBankingAccounts</th>\n",
       "      <th>flagMobilePhone</th>\n",
       "      <th>flagContactPhone</th>\n",
       "      <th>personalNetIncome</th>\n",
       "      <th>codeApplicationBooth</th>\n",
       "      <th>BAD</th>\n",
       "    </tr>\n",
       "  </thead>\n",
       "  <tbody>\n",
       "    <tr>\n",
       "      <th>0</th>\n",
       "      <td>1</td>\n",
       "      <td>2</td>\n",
       "      <td>15</td>\n",
       "      <td>F</td>\n",
       "      <td>S</td>\n",
       "      <td>18</td>\n",
       "      <td>0</td>\n",
       "      <td>NaN</td>\n",
       "      <td>Y</td>\n",
       "      <td>31</td>\n",
       "      <td>...</td>\n",
       "      <td>853</td>\n",
       "      <td>0.0</td>\n",
       "      <td>Y</td>\n",
       "      <td>N</td>\n",
       "      <td>0</td>\n",
       "      <td>N</td>\n",
       "      <td>N</td>\n",
       "      <td>300.0</td>\n",
       "      <td>0</td>\n",
       "      <td>0</td>\n",
       "    </tr>\n",
       "    <tr>\n",
       "      <th>1</th>\n",
       "      <td>2</td>\n",
       "      <td>4</td>\n",
       "      <td>12</td>\n",
       "      <td>F</td>\n",
       "      <td>C</td>\n",
       "      <td>47</td>\n",
       "      <td>0</td>\n",
       "      <td>NaN</td>\n",
       "      <td>N</td>\n",
       "      <td>31</td>\n",
       "      <td>...</td>\n",
       "      <td>35</td>\n",
       "      <td>0.0</td>\n",
       "      <td>Y</td>\n",
       "      <td>N</td>\n",
       "      <td>0</td>\n",
       "      <td>N</td>\n",
       "      <td>N</td>\n",
       "      <td>304.0</td>\n",
       "      <td>0</td>\n",
       "      <td>0</td>\n",
       "    </tr>\n",
       "    <tr>\n",
       "      <th>2</th>\n",
       "      <td>3</td>\n",
       "      <td>5</td>\n",
       "      <td>16</td>\n",
       "      <td>F</td>\n",
       "      <td>S</td>\n",
       "      <td>28</td>\n",
       "      <td>0</td>\n",
       "      <td>NaN</td>\n",
       "      <td>Y</td>\n",
       "      <td>31</td>\n",
       "      <td>...</td>\n",
       "      <td>24</td>\n",
       "      <td>0.0</td>\n",
       "      <td>Y</td>\n",
       "      <td>N</td>\n",
       "      <td>0</td>\n",
       "      <td>N</td>\n",
       "      <td>N</td>\n",
       "      <td>250.0</td>\n",
       "      <td>0</td>\n",
       "      <td>0</td>\n",
       "    </tr>\n",
       "    <tr>\n",
       "      <th>3</th>\n",
       "      <td>4</td>\n",
       "      <td>6</td>\n",
       "      <td>24</td>\n",
       "      <td>M</td>\n",
       "      <td>S</td>\n",
       "      <td>26</td>\n",
       "      <td>0</td>\n",
       "      <td>NaN</td>\n",
       "      <td>N</td>\n",
       "      <td>31</td>\n",
       "      <td>...</td>\n",
       "      <td>999</td>\n",
       "      <td>0.0</td>\n",
       "      <td>Y</td>\n",
       "      <td>N</td>\n",
       "      <td>0</td>\n",
       "      <td>N</td>\n",
       "      <td>N</td>\n",
       "      <td>800.0</td>\n",
       "      <td>0</td>\n",
       "      <td>0</td>\n",
       "    </tr>\n",
       "    <tr>\n",
       "      <th>4</th>\n",
       "      <td>5</td>\n",
       "      <td>7</td>\n",
       "      <td>55</td>\n",
       "      <td>F</td>\n",
       "      <td>S</td>\n",
       "      <td>22</td>\n",
       "      <td>0</td>\n",
       "      <td>NaN</td>\n",
       "      <td>Y</td>\n",
       "      <td>31</td>\n",
       "      <td>...</td>\n",
       "      <td>999</td>\n",
       "      <td>0.0</td>\n",
       "      <td>Y</td>\n",
       "      <td>N</td>\n",
       "      <td>0</td>\n",
       "      <td>N</td>\n",
       "      <td>N</td>\n",
       "      <td>410.0</td>\n",
       "      <td>0</td>\n",
       "      <td>0</td>\n",
       "    </tr>\n",
       "  </tbody>\n",
       "</table>\n",
       "<p>5 rows × 29 columns</p>\n",
       "</div>"
      ],
      "text/plain": [
       "   Unnamed: 0  clientId  shopId gender maritalStatus  age  numberOfDependents  \\\n",
       "0           1         2      15      F             S   18                   0   \n",
       "1           2         4      12      F             C   47                   0   \n",
       "2           3         5      16      F             S   28                   0   \n",
       "3           4         6      24      M             S   26                   0   \n",
       "4           5         7      55      F             S   22                   0   \n",
       "\n",
       "   education flagResidencialPhone  areaCodeResidencialPhone ...   \\\n",
       "0        NaN                    Y                        31 ...    \n",
       "1        NaN                    N                        31 ...    \n",
       "2        NaN                    Y                        31 ...    \n",
       "3        NaN                    N                        31 ...    \n",
       "4        NaN                    Y                        31 ...    \n",
       "\n",
       "   professionCode  mateIncome flagResidencialAddress_PostalAddress  \\\n",
       "0             853         0.0                                    Y   \n",
       "1              35         0.0                                    Y   \n",
       "2              24         0.0                                    Y   \n",
       "3             999         0.0                                    Y   \n",
       "4             999         0.0                                    Y   \n",
       "\n",
       "   flagOtherCard quantityBankingAccounts flagMobilePhone flagContactPhone  \\\n",
       "0              N                       0               N                N   \n",
       "1              N                       0               N                N   \n",
       "2              N                       0               N                N   \n",
       "3              N                       0               N                N   \n",
       "4              N                       0               N                N   \n",
       "\n",
       "  personalNetIncome  codeApplicationBooth  BAD  \n",
       "0             300.0                     0    0  \n",
       "1             304.0                     0    0  \n",
       "2             250.0                     0    0  \n",
       "3             800.0                     0    0  \n",
       "4             410.0                     0    0  \n",
       "\n",
       "[5 rows x 29 columns]"
      ]
     },
     "execution_count": 5,
     "metadata": {},
     "output_type": "execute_result"
    }
   ],
   "source": [
    "df.head()"
   ]
  },
  {
   "cell_type": "code",
   "execution_count": 6,
   "metadata": {},
   "outputs": [
    {
     "data": {
      "text/plain": [
       "Index(['Unnamed: 0', 'clientId', 'shopId', 'gender', 'maritalStatus', 'age',\n",
       "       'numberOfDependents', 'education', 'flagResidencialPhone',\n",
       "       'areaCodeResidencialPhone', 'bestPaymentDay', 'shopRank',\n",
       "       'residenceType', 'monthsInResidence', 'flagMothersName',\n",
       "       'flagFathersName', 'flagResidenceTown_WorkingTown',\n",
       "       'flagResidenceState_WorkingState', 'monthsInTheJob', 'professionCode',\n",
       "       'mateIncome', 'flagResidencialAddress_PostalAddress', 'flagOtherCard',\n",
       "       'quantityBankingAccounts', 'flagMobilePhone', 'flagContactPhone',\n",
       "       'personalNetIncome', 'codeApplicationBooth', 'BAD'],\n",
       "      dtype='object')"
      ]
     },
     "execution_count": 6,
     "metadata": {},
     "output_type": "execute_result"
    }
   ],
   "source": [
    "df.columns"
   ]
  },
  {
   "cell_type": "code",
   "execution_count": 7,
   "metadata": {
    "scrolled": true
   },
   "outputs": [
    {
     "data": {
      "text/html": [
       "<div>\n",
       "<style scoped>\n",
       "    .dataframe tbody tr th:only-of-type {\n",
       "        vertical-align: middle;\n",
       "    }\n",
       "\n",
       "    .dataframe tbody tr th {\n",
       "        vertical-align: top;\n",
       "    }\n",
       "\n",
       "    .dataframe thead th {\n",
       "        text-align: right;\n",
       "    }\n",
       "</style>\n",
       "<table border=\"1\" class=\"dataframe\">\n",
       "  <thead>\n",
       "    <tr style=\"text-align: right;\">\n",
       "      <th></th>\n",
       "      <th>bestPaymentDay</th>\n",
       "      <th>shopRank</th>\n",
       "      <th>residenceType</th>\n",
       "      <th>monthsInResidence</th>\n",
       "      <th>flagMothersName</th>\n",
       "      <th>flagFathersName</th>\n",
       "      <th>flagResidenceTown_WorkingTown</th>\n",
       "      <th>flagResidenceState_WorkingState</th>\n",
       "      <th>monthsInTheJob</th>\n",
       "    </tr>\n",
       "  </thead>\n",
       "  <tbody>\n",
       "    <tr>\n",
       "      <th>0</th>\n",
       "      <td>20</td>\n",
       "      <td>0</td>\n",
       "      <td>P</td>\n",
       "      <td>216</td>\n",
       "      <td>Y</td>\n",
       "      <td>Y</td>\n",
       "      <td>Y</td>\n",
       "      <td>Y</td>\n",
       "      <td>12</td>\n",
       "    </tr>\n",
       "    <tr>\n",
       "      <th>1</th>\n",
       "      <td>25</td>\n",
       "      <td>0</td>\n",
       "      <td>P</td>\n",
       "      <td>180</td>\n",
       "      <td>Y</td>\n",
       "      <td>Y</td>\n",
       "      <td>N</td>\n",
       "      <td>Y</td>\n",
       "      <td>24</td>\n",
       "    </tr>\n",
       "    <tr>\n",
       "      <th>2</th>\n",
       "      <td>25</td>\n",
       "      <td>0</td>\n",
       "      <td>O</td>\n",
       "      <td>12</td>\n",
       "      <td>Y</td>\n",
       "      <td>Y</td>\n",
       "      <td>Y</td>\n",
       "      <td>Y</td>\n",
       "      <td>12</td>\n",
       "    </tr>\n",
       "    <tr>\n",
       "      <th>3</th>\n",
       "      <td>28</td>\n",
       "      <td>0</td>\n",
       "      <td>P</td>\n",
       "      <td>180</td>\n",
       "      <td>Y</td>\n",
       "      <td>Y</td>\n",
       "      <td>N</td>\n",
       "      <td>Y</td>\n",
       "      <td>0</td>\n",
       "    </tr>\n",
       "    <tr>\n",
       "      <th>4</th>\n",
       "      <td>12</td>\n",
       "      <td>0</td>\n",
       "      <td>A</td>\n",
       "      <td>0</td>\n",
       "      <td>Y</td>\n",
       "      <td>Y</td>\n",
       "      <td>Y</td>\n",
       "      <td>Y</td>\n",
       "      <td>48</td>\n",
       "    </tr>\n",
       "  </tbody>\n",
       "</table>\n",
       "</div>"
      ],
      "text/plain": [
       "   bestPaymentDay  shopRank residenceType  monthsInResidence flagMothersName  \\\n",
       "0              20         0             P                216               Y   \n",
       "1              25         0             P                180               Y   \n",
       "2              25         0             O                 12               Y   \n",
       "3              28         0             P                180               Y   \n",
       "4              12         0             A                  0               Y   \n",
       "\n",
       "  flagFathersName flagResidenceTown_WorkingTown  \\\n",
       "0               Y                             Y   \n",
       "1               Y                             N   \n",
       "2               Y                             Y   \n",
       "3               Y                             N   \n",
       "4               Y                             Y   \n",
       "\n",
       "  flagResidenceState_WorkingState  monthsInTheJob  \n",
       "0                               Y              12  \n",
       "1                               Y              24  \n",
       "2                               Y              12  \n",
       "3                               Y               0  \n",
       "4                               Y              48  "
      ]
     },
     "execution_count": 7,
     "metadata": {},
     "output_type": "execute_result"
    }
   ],
   "source": [
    "#Observando colunas escondidas\n",
    "df[['bestPaymentDay', 'shopRank',\n",
    "       'residenceType', 'monthsInResidence', 'flagMothersName',\n",
    "       'flagFathersName', 'flagResidenceTown_WorkingTown',\n",
    "       'flagResidenceState_WorkingState', 'monthsInTheJob']].head()"
   ]
  },
  {
   "cell_type": "code",
   "execution_count": 8,
   "metadata": {
    "scrolled": true
   },
   "outputs": [
    {
     "name": "stdout",
     "output_type": "stream",
     "text": [
      "education Series([], Name: education, dtype: int64)\n",
      "shopRank 0    39770\n",
      "3      178\n",
      "2       52\n",
      "Name: shopRank, dtype: int64\n",
      "quantityBankingAccounts 0    40000\n",
      "Name: quantityBankingAccounts, dtype: int64\n",
      "numberOfDependents 0    40000\n",
      "Name: numberOfDependents, dtype: int64\n"
     ]
    }
   ],
   "source": [
    "# Observando valores estranhos de algumas variáveis\n",
    "unknown =  df[['education','shopRank','quantityBankingAccounts','numberOfDependents']]\n",
    "\n",
    "for i in unknown:\n",
    "    print(i,df[i].value_counts())"
   ]
  },
  {
   "cell_type": "code",
   "execution_count": 9,
   "metadata": {},
   "outputs": [],
   "source": [
    "#Criando um novo datrame eliminando variávies dispensáveis ao modelo preditivo\n",
    "new_df = df.drop(['Unnamed: 0','numberOfDependents','education', 'flagResidencialPhone',\n",
    "       'areaCodeResidencialPhone','residenceType', 'monthsInResidence', \n",
    "        'flagMothersName','flagFathersName', 'flagResidenceTown_WorkingTown',\n",
    "       'flagResidenceState_WorkingState','professionCode', 'flagResidencialAddress_PostalAddress', \n",
    "        'flagOtherCard','quantityBankingAccounts', 'flagMobilePhone', 'flagContactPhone',\n",
    "        'codeApplicationBooth'], axis = 1)"
   ]
  },
  {
   "cell_type": "code",
   "execution_count": 10,
   "metadata": {},
   "outputs": [
    {
     "name": "stdout",
     "output_type": "stream",
     "text": [
      "<class 'pandas.core.frame.DataFrame'>\n",
      "RangeIndex: 40000 entries, 0 to 39999\n",
      "Data columns (total 11 columns):\n",
      "clientId             40000 non-null int64\n",
      "shopId               40000 non-null int64\n",
      "gender               39997 non-null object\n",
      "maritalStatus        40000 non-null object\n",
      "age                  40000 non-null int64\n",
      "bestPaymentDay       40000 non-null int64\n",
      "shopRank             40000 non-null int64\n",
      "monthsInTheJob       40000 non-null int64\n",
      "mateIncome           40000 non-null float64\n",
      "personalNetIncome    40000 non-null float64\n",
      "BAD                  40000 non-null int64\n",
      "dtypes: float64(2), int64(7), object(2)\n",
      "memory usage: 3.4+ MB\n"
     ]
    }
   ],
   "source": [
    "# Observando as caracteríscticas das variáveis \n",
    "new_df.info()"
   ]
  },
  {
   "cell_type": "code",
   "execution_count": 11,
   "metadata": {
    "scrolled": true
   },
   "outputs": [
    {
     "data": {
      "text/html": [
       "<div>\n",
       "<style scoped>\n",
       "    .dataframe tbody tr th:only-of-type {\n",
       "        vertical-align: middle;\n",
       "    }\n",
       "\n",
       "    .dataframe tbody tr th {\n",
       "        vertical-align: top;\n",
       "    }\n",
       "\n",
       "    .dataframe thead th {\n",
       "        text-align: right;\n",
       "    }\n",
       "</style>\n",
       "<table border=\"1\" class=\"dataframe\">\n",
       "  <thead>\n",
       "    <tr style=\"text-align: right;\">\n",
       "      <th></th>\n",
       "      <th>clientId</th>\n",
       "      <th>shopId</th>\n",
       "      <th>age</th>\n",
       "      <th>bestPaymentDay</th>\n",
       "      <th>shopRank</th>\n",
       "      <th>monthsInTheJob</th>\n",
       "      <th>mateIncome</th>\n",
       "      <th>personalNetIncome</th>\n",
       "      <th>BAD</th>\n",
       "    </tr>\n",
       "  </thead>\n",
       "  <tbody>\n",
       "    <tr>\n",
       "      <th>count</th>\n",
       "      <td>40000.000000</td>\n",
       "      <td>40000.000000</td>\n",
       "      <td>40000.000000</td>\n",
       "      <td>40000.000000</td>\n",
       "      <td>40000.000000</td>\n",
       "      <td>40000.000000</td>\n",
       "      <td>40000.000000</td>\n",
       "      <td>4.000000e+04</td>\n",
       "      <td>40000.000000</td>\n",
       "    </tr>\n",
       "    <tr>\n",
       "      <th>mean</th>\n",
       "      <td>24982.227000</td>\n",
       "      <td>20.822950</td>\n",
       "      <td>34.649725</td>\n",
       "      <td>15.313950</td>\n",
       "      <td>0.015950</td>\n",
       "      <td>50.629500</td>\n",
       "      <td>50.993333</td>\n",
       "      <td>9.752711e+03</td>\n",
       "      <td>0.197500</td>\n",
       "    </tr>\n",
       "    <tr>\n",
       "      <th>std</th>\n",
       "      <td>14428.531759</td>\n",
       "      <td>14.571913</td>\n",
       "      <td>13.076200</td>\n",
       "      <td>7.159757</td>\n",
       "      <td>0.212124</td>\n",
       "      <td>73.875139</td>\n",
       "      <td>507.159125</td>\n",
       "      <td>4.856335e+05</td>\n",
       "      <td>0.398118</td>\n",
       "    </tr>\n",
       "    <tr>\n",
       "      <th>min</th>\n",
       "      <td>2.000000</td>\n",
       "      <td>1.000000</td>\n",
       "      <td>15.000000</td>\n",
       "      <td>1.000000</td>\n",
       "      <td>0.000000</td>\n",
       "      <td>0.000000</td>\n",
       "      <td>0.000000</td>\n",
       "      <td>0.000000e+00</td>\n",
       "      <td>0.000000</td>\n",
       "    </tr>\n",
       "    <tr>\n",
       "      <th>25%</th>\n",
       "      <td>12458.750000</td>\n",
       "      <td>12.000000</td>\n",
       "      <td>23.000000</td>\n",
       "      <td>9.000000</td>\n",
       "      <td>0.000000</td>\n",
       "      <td>12.000000</td>\n",
       "      <td>0.000000</td>\n",
       "      <td>2.700000e+02</td>\n",
       "      <td>0.000000</td>\n",
       "    </tr>\n",
       "    <tr>\n",
       "      <th>50%</th>\n",
       "      <td>25058.500000</td>\n",
       "      <td>21.000000</td>\n",
       "      <td>33.000000</td>\n",
       "      <td>12.000000</td>\n",
       "      <td>0.000000</td>\n",
       "      <td>24.000000</td>\n",
       "      <td>0.000000</td>\n",
       "      <td>4.000000e+02</td>\n",
       "      <td>0.000000</td>\n",
       "    </tr>\n",
       "    <tr>\n",
       "      <th>75%</th>\n",
       "      <td>37425.250000</td>\n",
       "      <td>24.000000</td>\n",
       "      <td>43.000000</td>\n",
       "      <td>20.000000</td>\n",
       "      <td>0.000000</td>\n",
       "      <td>60.000000</td>\n",
       "      <td>0.000000</td>\n",
       "      <td>7.380000e+02</td>\n",
       "      <td>0.000000</td>\n",
       "    </tr>\n",
       "    <tr>\n",
       "      <th>max</th>\n",
       "      <td>50000.000000</td>\n",
       "      <td>96.000000</td>\n",
       "      <td>88.000000</td>\n",
       "      <td>28.000000</td>\n",
       "      <td>3.000000</td>\n",
       "      <td>1176.000000</td>\n",
       "      <td>70000.000000</td>\n",
       "      <td>3.852910e+07</td>\n",
       "      <td>1.000000</td>\n",
       "    </tr>\n",
       "  </tbody>\n",
       "</table>\n",
       "</div>"
      ],
      "text/plain": [
       "           clientId        shopId           age  bestPaymentDay      shopRank  \\\n",
       "count  40000.000000  40000.000000  40000.000000    40000.000000  40000.000000   \n",
       "mean   24982.227000     20.822950     34.649725       15.313950      0.015950   \n",
       "std    14428.531759     14.571913     13.076200        7.159757      0.212124   \n",
       "min        2.000000      1.000000     15.000000        1.000000      0.000000   \n",
       "25%    12458.750000     12.000000     23.000000        9.000000      0.000000   \n",
       "50%    25058.500000     21.000000     33.000000       12.000000      0.000000   \n",
       "75%    37425.250000     24.000000     43.000000       20.000000      0.000000   \n",
       "max    50000.000000     96.000000     88.000000       28.000000      3.000000   \n",
       "\n",
       "       monthsInTheJob    mateIncome  personalNetIncome           BAD  \n",
       "count    40000.000000  40000.000000       4.000000e+04  40000.000000  \n",
       "mean        50.629500     50.993333       9.752711e+03      0.197500  \n",
       "std         73.875139    507.159125       4.856335e+05      0.398118  \n",
       "min          0.000000      0.000000       0.000000e+00      0.000000  \n",
       "25%         12.000000      0.000000       2.700000e+02      0.000000  \n",
       "50%         24.000000      0.000000       4.000000e+02      0.000000  \n",
       "75%         60.000000      0.000000       7.380000e+02      0.000000  \n",
       "max       1176.000000  70000.000000       3.852910e+07      1.000000  "
      ]
     },
     "execution_count": 11,
     "metadata": {},
     "output_type": "execute_result"
    }
   ],
   "source": [
    "# Observando estatísticas básicas das variáveis\n",
    "new_df.describe()"
   ]
  },
  {
   "cell_type": "code",
   "execution_count": 12,
   "metadata": {},
   "outputs": [],
   "source": [
    "#Eliminando Linhas que contenham valores não declarados\n",
    "new_df.dropna(how='any',inplace = True)"
   ]
  },
  {
   "cell_type": "code",
   "execution_count": 13,
   "metadata": {
    "scrolled": true
   },
   "outputs": [
    {
     "name": "stdout",
     "output_type": "stream",
     "text": [
      "<class 'pandas.core.frame.DataFrame'>\n",
      "Int64Index: 39997 entries, 0 to 39999\n",
      "Data columns (total 11 columns):\n",
      "clientId             39997 non-null int64\n",
      "shopId               39997 non-null int64\n",
      "gender               39997 non-null object\n",
      "maritalStatus        39997 non-null object\n",
      "age                  39997 non-null int64\n",
      "bestPaymentDay       39997 non-null int64\n",
      "shopRank             39997 non-null int64\n",
      "monthsInTheJob       39997 non-null int64\n",
      "mateIncome           39997 non-null float64\n",
      "personalNetIncome    39997 non-null float64\n",
      "BAD                  39997 non-null int64\n",
      "dtypes: float64(2), int64(7), object(2)\n",
      "memory usage: 3.7+ MB\n"
     ]
    }
   ],
   "source": [
    "new_df.info()"
   ]
  },
  {
   "cell_type": "code",
   "execution_count": 14,
   "metadata": {},
   "outputs": [
    {
     "data": {
      "text/plain": [
       "0"
      ]
     },
     "execution_count": 14,
     "metadata": {},
     "output_type": "execute_result"
    }
   ],
   "source": [
    "#Verificando linhas duplicadas\n",
    "sum(new_df.duplicated())"
   ]
  },
  {
   "cell_type": "code",
   "execution_count": 15,
   "metadata": {
    "scrolled": true
   },
   "outputs": [
    {
     "data": {
      "image/png": "[encoded data removed]",
      "text/plain": [
       "<matplotlib.figure.Figure at 0x169dd77e358>"
      ]
     },
     "metadata": {},
     "output_type": "display_data"
    },
    {
     "data": {
      "image/png": "[encoded data removed]",
      "text/plain": [
       "<matplotlib.figure.Figure at 0x169dd4090b8>"
      ]
     },
     "metadata": {},
     "output_type": "display_data"
    },
    {
     "data": {
      "image/png": "[encoded data removed]",
      "text/plain": [
       "<matplotlib.figure.Figure at 0x169dd42de10>"
      ]
     },
     "metadata": {},
     "output_type": "display_data"
    },
    {
     "data": {
      "image/png": "[encoded data removed]",
      "text/plain": [
       "<matplotlib.figure.Figure at 0x169dd41bdd8>"
      ]
     },
     "metadata": {},
     "output_type": "display_data"
    }
   ],
   "source": [
    "#gráficos de barras para variáveis categóricas, queremos ver as características dos inadimplentes\n",
    "for i in ['shopId', 'gender', 'maritalStatus', 'shopRank']:\n",
    "    table = new_df.groupby([i,'BAD'])['BAD'].count().unstack('BAD').fillna(0)\n",
    "    table.plot(kind = 'bar', stacked = True)\n",
    "    plt.show()"
   ]
  },
  {
   "cell_type": "markdown",
   "metadata": {},
   "source": [
    "Observamos que gênero e estado civil nos contam que muheres e solteiros apresentam número e proporções maiores de inadimplência, sendo estas varíaveis possivelmente significativas a nosso modelo. Já as outras variáveis não apresentam características tão claras que representem os inadimplentes."
   ]
  },
  {
   "cell_type": "code",
   "execution_count": 16,
   "metadata": {},
   "outputs": [
    {
     "data": {
      "image/png": "[encoded data removed]",
      "text/plain": [
       "<matplotlib.figure.Figure at 0x169dd7ecac8>"
      ]
     },
     "metadata": {},
     "output_type": "display_data"
    },
    {
     "data": {
      "image/png": "[encoded data removed]",
      "text/plain": [
       "<matplotlib.figure.Figure at 0x169dd4a4438>"
      ]
     },
     "metadata": {},
     "output_type": "display_data"
    },
    {
     "data": {
      "image/png": "[encoded data removed]",
      "text/plain": [
       "<matplotlib.figure.Figure at 0x169dd4aaac8>"
      ]
     },
     "metadata": {},
     "output_type": "display_data"
    },
    {
     "data": {
      "image/png": "[encoded data removed]",
      "text/plain": [
       "<matplotlib.figure.Figure at 0x169ddacd208>"
      ]
     },
     "metadata": {},
     "output_type": "display_data"
    },
    {
     "data": {
      "image/png": "[encoded data removed]",
      "text/plain": [
       "<matplotlib.figure.Figure at 0x169df8113c8>"
      ]
     },
     "metadata": {},
     "output_type": "display_data"
    },
    {
     "data": {
      "image/png": "[encoded data removed]",
      "text/plain": [
       "<matplotlib.figure.Figure at 0x169dfa19390>"
      ]
     },
     "metadata": {},
     "output_type": "display_data"
    }
   ],
   "source": [
    "#histograma de variáveis contínuas em conjunção com variáveis categóricas\n",
    "import seaborn as sns\n",
    "\n",
    "for i in ['age','bestPaymentDay','monthsInTheJob']:\n",
    "    for j in ['gender', 'maritalStatus']:\n",
    "        bins = np.linspace(new_df[i].min(), new_df[i].max(), 10)\n",
    "        g = sns.FacetGrid(new_df, col=j, hue=\"BAD\", palette=\"Set1\", col_wrap=2)\n",
    "        g.map(plt.hist,i, bins=bins, ec=\"k\")\n",
    "\n",
    "        g.axes[-1].legend()\n",
    "        plt.show()\n"
   ]
  },
  {
   "cell_type": "markdown",
   "metadata": {},
   "source": [
    "Quando a idade é levada em conta, observamos que o estado civil impacta muito na inadimplência, porque enquanto entre os solteiros a inadimplência tende à juventude, nos casados não há tendência de inadimplência com relação à idade. Observamos que a variável que destaca a longevidade do emprego dos indivíduos está muito concentrada numa faixa do histograma, resultado talvez da presença de outliers muito díspares da maioria dos dados."
   ]
  },
  {
   "cell_type": "code",
   "execution_count": 34,
   "metadata": {},
   "outputs": [
    {
     "data": {
      "image/png": "[encoded data removed]",
      "text/plain": [
       "<matplotlib.figure.Figure at 0x169ddc247f0>"
      ]
     },
     "metadata": {},
     "output_type": "display_data"
    }
   ],
   "source": [
    "#Observando a presença de outliers\n",
    "#box plot 'monthsInTheJob'\n",
    "new_df['monthsInTheJob'].plot(kind = 'box',figsize = (10,5))\n",
    "plt.show()\n"
   ]
  },
  {
   "cell_type": "code",
   "execution_count": 18,
   "metadata": {},
   "outputs": [
    {
     "data": {
      "text/html": [
       "<div>\n",
       "<style scoped>\n",
       "    .dataframe tbody tr th:only-of-type {\n",
       "        vertical-align: middle;\n",
       "    }\n",
       "\n",
       "    .dataframe tbody tr th {\n",
       "        vertical-align: top;\n",
       "    }\n",
       "\n",
       "    .dataframe thead th {\n",
       "        text-align: right;\n",
       "    }\n",
       "</style>\n",
       "<table border=\"1\" class=\"dataframe\">\n",
       "  <thead>\n",
       "    <tr style=\"text-align: right;\">\n",
       "      <th></th>\n",
       "      <th>clientId</th>\n",
       "      <th>shopId</th>\n",
       "      <th>gender</th>\n",
       "      <th>maritalStatus</th>\n",
       "      <th>age</th>\n",
       "      <th>bestPaymentDay</th>\n",
       "      <th>shopRank</th>\n",
       "      <th>monthsInTheJob</th>\n",
       "      <th>mateIncome</th>\n",
       "      <th>personalNetIncome</th>\n",
       "      <th>BAD</th>\n",
       "    </tr>\n",
       "  </thead>\n",
       "  <tbody>\n",
       "    <tr>\n",
       "      <th>0</th>\n",
       "      <td>2</td>\n",
       "      <td>15</td>\n",
       "      <td>F</td>\n",
       "      <td>S</td>\n",
       "      <td>18</td>\n",
       "      <td>20</td>\n",
       "      <td>0</td>\n",
       "      <td>12</td>\n",
       "      <td>0.0</td>\n",
       "      <td>300.0</td>\n",
       "      <td>0</td>\n",
       "    </tr>\n",
       "    <tr>\n",
       "      <th>1</th>\n",
       "      <td>4</td>\n",
       "      <td>12</td>\n",
       "      <td>F</td>\n",
       "      <td>C</td>\n",
       "      <td>47</td>\n",
       "      <td>25</td>\n",
       "      <td>0</td>\n",
       "      <td>24</td>\n",
       "      <td>0.0</td>\n",
       "      <td>304.0</td>\n",
       "      <td>0</td>\n",
       "    </tr>\n",
       "    <tr>\n",
       "      <th>2</th>\n",
       "      <td>5</td>\n",
       "      <td>16</td>\n",
       "      <td>F</td>\n",
       "      <td>S</td>\n",
       "      <td>28</td>\n",
       "      <td>25</td>\n",
       "      <td>0</td>\n",
       "      <td>12</td>\n",
       "      <td>0.0</td>\n",
       "      <td>250.0</td>\n",
       "      <td>0</td>\n",
       "    </tr>\n",
       "    <tr>\n",
       "      <th>3</th>\n",
       "      <td>6</td>\n",
       "      <td>24</td>\n",
       "      <td>M</td>\n",
       "      <td>S</td>\n",
       "      <td>26</td>\n",
       "      <td>28</td>\n",
       "      <td>0</td>\n",
       "      <td>0</td>\n",
       "      <td>0.0</td>\n",
       "      <td>800.0</td>\n",
       "      <td>0</td>\n",
       "    </tr>\n",
       "    <tr>\n",
       "      <th>4</th>\n",
       "      <td>7</td>\n",
       "      <td>55</td>\n",
       "      <td>F</td>\n",
       "      <td>S</td>\n",
       "      <td>22</td>\n",
       "      <td>12</td>\n",
       "      <td>0</td>\n",
       "      <td>48</td>\n",
       "      <td>0.0</td>\n",
       "      <td>410.0</td>\n",
       "      <td>0</td>\n",
       "    </tr>\n",
       "  </tbody>\n",
       "</table>\n",
       "</div>"
      ],
      "text/plain": [
       "   clientId  shopId gender maritalStatus  age  bestPaymentDay  shopRank  \\\n",
       "0         2      15      F             S   18              20         0   \n",
       "1         4      12      F             C   47              25         0   \n",
       "2         5      16      F             S   28              25         0   \n",
       "3         6      24      M             S   26              28         0   \n",
       "4         7      55      F             S   22              12         0   \n",
       "\n",
       "   monthsInTheJob  mateIncome  personalNetIncome  BAD  \n",
       "0              12         0.0              300.0    0  \n",
       "1              24         0.0              304.0    0  \n",
       "2              12         0.0              250.0    0  \n",
       "3               0         0.0              800.0    0  \n",
       "4              48         0.0              410.0    0  "
      ]
     },
     "execution_count": 18,
     "metadata": {},
     "output_type": "execute_result"
    }
   ],
   "source": [
    "#Selecionando uma amostra na qual haja pouco impacto de outliers na análise\n",
    "sample = new_df.query('monthsInTheJob <100')\n",
    "sample.head()"
   ]
  },
  {
   "cell_type": "code",
   "execution_count": 19,
   "metadata": {
    "scrolled": true
   },
   "outputs": [
    {
     "data": {
      "image/png": "[encoded data removed]",
      "text/plain": [
       "<matplotlib.figure.Figure at 0x169ddd35fd0>"
      ]
     },
     "metadata": {},
     "output_type": "display_data"
    }
   ],
   "source": [
    "sample['monthsInTheJob'].plot(kind = 'box',figsize = (10,10))\n",
    "plt.show()\n"
   ]
  },
  {
   "cell_type": "code",
   "execution_count": 20,
   "metadata": {
    "scrolled": true
   },
   "outputs": [
    {
     "data": {
      "image/png": "[encoded data removed]",
      "text/plain": [
       "<matplotlib.figure.Figure at 0x169dd416a58>"
      ]
     },
     "metadata": {},
     "output_type": "display_data"
    },
    {
     "data": {
      "image/png": "[encoded data removed]",
      "text/plain": [
       "<matplotlib.figure.Figure at 0x169dfbcfd68>"
      ]
     },
     "metadata": {},
     "output_type": "display_data"
    }
   ],
   "source": [
    "#Histogramas da amostra selecionada\n",
    "for i in ['monthsInTheJob']:\n",
    "    for j in ['gender', 'maritalStatus']:\n",
    "        bins = np.linspace(sample[i].min(), sample[i].max(), 10)\n",
    "        g = sns.FacetGrid(sample, col=j, hue=\"BAD\", palette=\"Set1\", col_wrap=2)\n",
    "        g.map(plt.hist,i, bins=bins, ec=\"k\")\n",
    "\n",
    "        g.axes[-1].legend()\n",
    "        plt.show()\n"
   ]
  },
  {
   "cell_type": "markdown",
   "metadata": {},
   "source": [
    "Observamos que para todos os gêneros e estados civis a maior faixa de inadimplentes costuma ser entre pessoas que já estão em seu segundo ano no mesmo emprego."
   ]
  },
  {
   "cell_type": "code",
   "execution_count": 21,
   "metadata": {
    "scrolled": false
   },
   "outputs": [
    {
     "data": {
      "text/html": [
       "<div>\n",
       "<style scoped>\n",
       "    .dataframe tbody tr th:only-of-type {\n",
       "        vertical-align: middle;\n",
       "    }\n",
       "\n",
       "    .dataframe tbody tr th {\n",
       "        vertical-align: top;\n",
       "    }\n",
       "\n",
       "    .dataframe thead th {\n",
       "        text-align: right;\n",
       "    }\n",
       "</style>\n",
       "<table border=\"1\" class=\"dataframe\">\n",
       "  <thead>\n",
       "    <tr style=\"text-align: right;\">\n",
       "      <th></th>\n",
       "      <th>mateIncome</th>\n",
       "      <th>personalNetIncome</th>\n",
       "    </tr>\n",
       "  </thead>\n",
       "  <tbody>\n",
       "    <tr>\n",
       "      <th>count</th>\n",
       "      <td>39997.000000</td>\n",
       "      <td>3.999700e+04</td>\n",
       "    </tr>\n",
       "    <tr>\n",
       "      <th>mean</th>\n",
       "      <td>50.997158</td>\n",
       "      <td>9.753399e+03</td>\n",
       "    </tr>\n",
       "    <tr>\n",
       "      <th>std</th>\n",
       "      <td>507.177952</td>\n",
       "      <td>4.856517e+05</td>\n",
       "    </tr>\n",
       "    <tr>\n",
       "      <th>min</th>\n",
       "      <td>0.000000</td>\n",
       "      <td>0.000000e+00</td>\n",
       "    </tr>\n",
       "    <tr>\n",
       "      <th>25%</th>\n",
       "      <td>0.000000</td>\n",
       "      <td>2.700000e+02</td>\n",
       "    </tr>\n",
       "    <tr>\n",
       "      <th>50%</th>\n",
       "      <td>0.000000</td>\n",
       "      <td>4.000000e+02</td>\n",
       "    </tr>\n",
       "    <tr>\n",
       "      <th>75%</th>\n",
       "      <td>0.000000</td>\n",
       "      <td>7.380000e+02</td>\n",
       "    </tr>\n",
       "    <tr>\n",
       "      <th>max</th>\n",
       "      <td>70000.000000</td>\n",
       "      <td>3.852910e+07</td>\n",
       "    </tr>\n",
       "  </tbody>\n",
       "</table>\n",
       "</div>"
      ],
      "text/plain": [
       "         mateIncome  personalNetIncome\n",
       "count  39997.000000       3.999700e+04\n",
       "mean      50.997158       9.753399e+03\n",
       "std      507.177952       4.856517e+05\n",
       "min        0.000000       0.000000e+00\n",
       "25%        0.000000       2.700000e+02\n",
       "50%        0.000000       4.000000e+02\n",
       "75%        0.000000       7.380000e+02\n",
       "max    70000.000000       3.852910e+07"
      ]
     },
     "execution_count": 21,
     "metadata": {},
     "output_type": "execute_result"
    }
   ],
   "source": [
    "#Observando estatísticas sobre renda\n",
    "new_df[['mateIncome','personalNetIncome']].describe()\n"
   ]
  },
  {
   "cell_type": "markdown",
   "metadata": {},
   "source": [
    "Observamos que \"mateIcome\", que acredito ser a renda do cônjugue, não é uma boa variável a ser selecionada para o nosso modelo, pois até 75% da amostra possui valor zero, por isso suas outras estatísticas não são representativas para o conjunto de dados."
   ]
  },
  {
   "cell_type": "code",
   "execution_count": 22,
   "metadata": {},
   "outputs": [
    {
     "data": {
      "text/plain": [
       "400.0"
      ]
     },
     "execution_count": 22,
     "metadata": {},
     "output_type": "execute_result"
    }
   ],
   "source": [
    "new_df['personalNetIncome'].median()"
   ]
  },
  {
   "cell_type": "code",
   "execution_count": 23,
   "metadata": {},
   "outputs": [
    {
     "data": {
      "text/plain": [
       "9753.39945620921"
      ]
     },
     "execution_count": 23,
     "metadata": {},
     "output_type": "execute_result"
    }
   ],
   "source": [
    "new_df['personalNetIncome'].mean()"
   ]
  },
  {
   "cell_type": "code",
   "execution_count": 24,
   "metadata": {},
   "outputs": [
    {
     "data": {
      "text/plain": [
       "1440.0"
      ]
     },
     "execution_count": 24,
     "metadata": {},
     "output_type": "execute_result"
    }
   ],
   "source": [
    "CIS = 738+(738-270)*1.5\n",
    "CIS"
   ]
  },
  {
   "cell_type": "code",
   "execution_count": 25,
   "metadata": {},
   "outputs": [],
   "source": [
    "#Obtendo amostra contendo dados até o limite superior do box plot \n",
    "sample2 = new_df.query('personalNetIncome<1440.0')\n"
   ]
  },
  {
   "cell_type": "code",
   "execution_count": 26,
   "metadata": {
    "scrolled": false
   },
   "outputs": [
    {
     "data": {
      "image/png": "[encoded data removed]",
      "text/plain": [
       "<matplotlib.figure.Figure at 0x169ddcd7dd8>"
      ]
     },
     "metadata": {},
     "output_type": "display_data"
    }
   ],
   "source": [
    "#Observando se o histograma está melhor distribuído\n",
    "bins = np.linspace(sample2['personalNetIncome'].min(), sample2['personalNetIncome'].max(), 10)\n",
    "sample2['personalNetIncome'].plot(kind='hist',bins = bins)\n",
    "plt.show()\n",
    "    "
   ]
  },
  {
   "cell_type": "code",
   "execution_count": 27,
   "metadata": {},
   "outputs": [
    {
     "data": {
      "image/png": "[encoded data removed]",
      "text/plain": [
       "<matplotlib.figure.Figure at 0x169df6f6ef0>"
      ]
     },
     "metadata": {},
     "output_type": "display_data"
    },
    {
     "data": {
      "image/png": "[encoded data removed]",
      "text/plain": [
       "<matplotlib.figure.Figure at 0x169dd3c3208>"
      ]
     },
     "metadata": {},
     "output_type": "display_data"
    }
   ],
   "source": [
    "for j in ['gender', 'maritalStatus']:\n",
    "    g = sns.FacetGrid(sample, col=j, hue=\"BAD\", palette=\"Set1\", col_wrap=2)\n",
    "    g.map(plt.hist,'personalNetIncome', bins=bins, ec=\"k\")\n",
    "\n",
    "    g.axes[-1].legend()\n",
    "    plt.show()\n"
   ]
  },
  {
   "cell_type": "markdown",
   "metadata": {},
   "source": [
    "Observamos que independente de gênero e estado civil a faixa de renda onde estão a maior parte dos inadimpentes é entre 200 à 600 unidades monetárias."
   ]
  },
  {
   "cell_type": "markdown",
   "metadata": {},
   "source": [
    "Após feita a análise exploratória irei selecionar as variáveis na qual foram mais significantes para mostrar o cmportamento e características dos inadimplentes : 'age','bestPaymentDay','monthsInTheJob','personalNetIncome','gender','maritalStatus'"
   ]
  },
  {
   "cell_type": "code",
   "execution_count": 28,
   "metadata": {},
   "outputs": [
    {
     "data": {
      "text/html": [
       "<div>\n",
       "<style scoped>\n",
       "    .dataframe tbody tr th:only-of-type {\n",
       "        vertical-align: middle;\n",
       "    }\n",
       "\n",
       "    .dataframe tbody tr th {\n",
       "        vertical-align: top;\n",
       "    }\n",
       "\n",
       "    .dataframe thead th {\n",
       "        text-align: right;\n",
       "    }\n",
       "</style>\n",
       "<table border=\"1\" class=\"dataframe\">\n",
       "  <thead>\n",
       "    <tr style=\"text-align: right;\">\n",
       "      <th></th>\n",
       "      <th>age</th>\n",
       "      <th>bestPaymentDay</th>\n",
       "      <th>monthsInTheJob</th>\n",
       "      <th>personalNetIncome</th>\n",
       "      <th>gender</th>\n",
       "      <th>C</th>\n",
       "      <th>D</th>\n",
       "      <th>O</th>\n",
       "      <th>S</th>\n",
       "      <th>V</th>\n",
       "    </tr>\n",
       "  </thead>\n",
       "  <tbody>\n",
       "    <tr>\n",
       "      <th>0</th>\n",
       "      <td>18</td>\n",
       "      <td>20</td>\n",
       "      <td>12</td>\n",
       "      <td>300.0</td>\n",
       "      <td>1</td>\n",
       "      <td>0</td>\n",
       "      <td>0</td>\n",
       "      <td>0</td>\n",
       "      <td>1</td>\n",
       "      <td>0</td>\n",
       "    </tr>\n",
       "    <tr>\n",
       "      <th>1</th>\n",
       "      <td>47</td>\n",
       "      <td>25</td>\n",
       "      <td>24</td>\n",
       "      <td>304.0</td>\n",
       "      <td>1</td>\n",
       "      <td>1</td>\n",
       "      <td>0</td>\n",
       "      <td>0</td>\n",
       "      <td>0</td>\n",
       "      <td>0</td>\n",
       "    </tr>\n",
       "    <tr>\n",
       "      <th>2</th>\n",
       "      <td>28</td>\n",
       "      <td>25</td>\n",
       "      <td>12</td>\n",
       "      <td>250.0</td>\n",
       "      <td>1</td>\n",
       "      <td>0</td>\n",
       "      <td>0</td>\n",
       "      <td>0</td>\n",
       "      <td>1</td>\n",
       "      <td>0</td>\n",
       "    </tr>\n",
       "    <tr>\n",
       "      <th>3</th>\n",
       "      <td>26</td>\n",
       "      <td>28</td>\n",
       "      <td>0</td>\n",
       "      <td>800.0</td>\n",
       "      <td>0</td>\n",
       "      <td>0</td>\n",
       "      <td>0</td>\n",
       "      <td>0</td>\n",
       "      <td>1</td>\n",
       "      <td>0</td>\n",
       "    </tr>\n",
       "    <tr>\n",
       "      <th>4</th>\n",
       "      <td>22</td>\n",
       "      <td>12</td>\n",
       "      <td>48</td>\n",
       "      <td>410.0</td>\n",
       "      <td>1</td>\n",
       "      <td>0</td>\n",
       "      <td>0</td>\n",
       "      <td>0</td>\n",
       "      <td>1</td>\n",
       "      <td>0</td>\n",
       "    </tr>\n",
       "  </tbody>\n",
       "</table>\n",
       "</div>"
      ],
      "text/plain": [
       "   age  bestPaymentDay  monthsInTheJob  personalNetIncome  gender  C  D  O  S  \\\n",
       "0   18              20              12              300.0       1  0  0  0  1   \n",
       "1   47              25              24              304.0       1  1  0  0  0   \n",
       "2   28              25              12              250.0       1  0  0  0  1   \n",
       "3   26              28               0              800.0       0  0  0  0  1   \n",
       "4   22              12              48              410.0       1  0  0  0  1   \n",
       "\n",
       "   V  \n",
       "0  0  \n",
       "1  0  \n",
       "2  0  \n",
       "3  0  \n",
       "4  0  "
      ]
     },
     "execution_count": 28,
     "metadata": {},
     "output_type": "execute_result"
    }
   ],
   "source": [
    "#tratamento de dados\n",
    "new_df['gender'].replace(to_replace=['M','F'], value=[0,1],inplace=True)\n",
    "Feature = new_df[['age','bestPaymentDay','monthsInTheJob','personalNetIncome','gender']]\n",
    "Feature = pd.concat([Feature,pd.get_dummies(new_df['maritalStatus'])], axis=1)\n",
    "Feature.head()\n"
   ]
  },
  {
   "cell_type": "code",
   "execution_count": 29,
   "metadata": {},
   "outputs": [],
   "source": [
    "#Declarando as variáveis dependentes e independentes do modelo\n",
    "X = Feature\n",
    "y = new_df['BAD']"
   ]
  },
  {
   "cell_type": "code",
   "execution_count": 30,
   "metadata": {},
   "outputs": [],
   "source": [
    "# padronizando os dados\n",
    "from sklearn import preprocessing\n",
    "X = preprocessing.StandardScaler().fit(X).transform(X)"
   ]
  },
  {
   "cell_type": "code",
   "execution_count": 31,
   "metadata": {},
   "outputs": [
    {
     "name": "stdout",
     "output_type": "stream",
     "text": [
      "Train set: (31997, 10) (31997,)\n",
      "Test set: (8000, 10) (8000,)\n"
     ]
    }
   ],
   "source": [
    "# Dividindo os dados em duas amostras, uma servirá para estimar o modelo e outra para comparar com o resultado da previsão\n",
    "X_train, X_test, y_train, y_test = train_test_split( X, y, test_size=0.2, random_state=4)\n",
    "print ('Train set:', X_train.shape,  y_train.shape)\n",
    "print ('Test set:', X_test.shape,  y_test.shape)"
   ]
  },
  {
   "cell_type": "markdown",
   "metadata": {},
   "source": [
    "Devido a quantidade de outliers e suas distorções significativas nos resultados de modelos lineares, decidi optar pelo modelo k-nearest neighbors para fazer a previsão de mal pagadores, nos permitindo lidar com as características desses indivíduos discrepantes e aproveitando a amostra de forma integral."
   ]
  },
  {
   "cell_type": "code",
   "execution_count": 32,
   "metadata": {},
   "outputs": [
    {
     "name": "stdout",
     "output_type": "stream",
     "text": [
      "The best accuracy was with 0.801 with k= 8\n"
     ]
    }
   ],
   "source": [
    "#Algoritmo para achar o k que deixa o modelo mais acurado\n",
    "Ks = 10\n",
    "mean_acc = np.zeros((Ks-1))\n",
    "std_acc = np.zeros((Ks-1))\n",
    "\n",
    "for n in range(1,Ks):\n",
    "#Train Model and Predict  \n",
    "    neigh = KNeighborsClassifier(n_neighbors = n).fit(X_train,y_train)\n",
    "    yhat=neigh.predict(X_test)\n",
    "    mean_acc[n-1] = metrics.accuracy_score(y_test, yhat)\n",
    "    \n",
    "print( \"The best accuracy was with\", mean_acc.max(), \"with k=\", mean_acc.argmax()+1) \n"
   ]
  },
  {
   "cell_type": "code",
   "execution_count": 33,
   "metadata": {},
   "outputs": [
    {
     "data": {
      "text/plain": [
       "array([0, 0, 0, 0, 0, 0, 0, 0, 0, 0, 0, 0, 0, 0, 0, 0, 0, 0, 0, 0, 0, 0,\n",
       "       0, 0, 0, 0, 0, 0, 0, 0, 0, 0, 0, 0, 0, 0, 0, 0, 0, 0, 0, 0, 0, 0,\n",
       "       0, 0, 0, 0, 0, 0, 0, 0, 0, 0, 0, 0, 0, 0, 0, 0, 0, 0, 0, 0, 0, 0,\n",
       "       0, 0, 1, 1, 0, 0, 0, 0, 0, 0, 0, 0, 0, 0, 0, 0, 0, 0, 0, 0, 0, 0,\n",
       "       0, 0, 0, 0, 0, 0, 0, 0, 0, 0, 0, 0], dtype=int64)"
      ]
     },
     "execution_count": 33,
     "metadata": {},
     "output_type": "execute_result"
    }
   ],
   "source": [
    "#Previsões do modelo dos 100 primeiras individuos na amostra para testes.\n",
    "neigh = KNeighborsClassifier(n_neighbors = 8).fit(X_train,y_train)\n",
    "yhat=neigh.predict(X_test)\n",
    "yhat[0:100]"
   ]
  }
 ],
 "metadata": {
  "kernelspec": {
   "display_name": "Python 3",
   "language": "python",
   "name": "python3"
  },
  "language_info": {
   "codemirror_mode": {
    "name": "ipython",
    "version": 3
   },
   "file_extension": ".py",
   "mimetype": "text/x-python",
   "name": "python",
   "nbconvert_exporter": "python",
   "pygments_lexer": "ipython3",
   "version": "3.6.4"
  }
 },
 "nbformat": 4,
 "nbformat_minor": 2
}
